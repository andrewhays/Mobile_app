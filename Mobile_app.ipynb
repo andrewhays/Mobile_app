{
 "cells": [
  {
   "cell_type": "markdown",
   "metadata": {},
   "source": [
    "# Analyzing Mobile App Data\n",
    "* We will pretend we work for a tech startup looking to build an app.\n",
    "* We only build apps that are free to download and install, and our main source of revenue consists of in-app ads. This means that the number of users of our apps determines our revenue for any given app — the more users who see and engage with the ads, the better. \n",
    "* Our goal for this project is to analyze data to help our developers understand what type of apps are likely to attract more users."
   ]
  },
  {
   "cell_type": "markdown",
   "metadata": {},
   "source": [
    "We will start off by pulling in a sample dataset of iOS app data which can be found [here](https://dq-content.s3.amazonaws.com/350/AppleStore.csv) and one for the Google Play store which can be found [here](https://dq-content.s3.amazonaws.com/350/googleplaystore.csv)"
   ]
  },
  {
   "cell_type": "code",
   "execution_count": 1,
   "metadata": {},
   "outputs": [],
   "source": [
    "from csv import reader\n",
    "opened_file=open('AppleStore.csv')\n",
    "read_file=reader(opened_file)\n",
    "data=list(read_file)\n",
    "ios_header=data[0]\n",
    "ios=data[1:]\n",
    "\n",
    "opened_file=open('googleplaystore.csv')\n",
    "read_file=reader(opened_file)\n",
    "data=list(read_file)\n",
    "android_header=data[0]\n",
    "android=data[1:]"
   ]
  },
  {
   "cell_type": "markdown",
   "metadata": {},
   "source": [
    "Next we'll begin opening and exploring these two data sets. To make them easier to explore, we created a function named explore_data() that you can repeatedly use to print rows in a readable way."
   ]
  },
  {
   "cell_type": "code",
   "execution_count": 2,
   "metadata": {},
   "outputs": [
    {
     "name": "stdout",
     "output_type": "stream",
     "text": [
      "['284882215', 'Facebook', '389879808', 'USD', '0.0', '2974676', '212', '3.5', '3.5', '95.0', '4+', 'Social Networking', '37', '1', '29', '1']\n",
      "\n",
      "\n",
      "['389801252', 'Instagram', '113954816', 'USD', '0.0', '2161558', '1289', '4.5', '4.0', '10.23', '12+', 'Photo & Video', '37', '0', '29', '1']\n",
      "\n",
      "\n",
      "Number of rows: 7197\n",
      "Number of columns: 16\n",
      "['Photo Editor & Candy Camera & Grid & ScrapBook', 'ART_AND_DESIGN', '4.1', '159', '19M', '10,000+', 'Free', '0', 'Everyone', 'Art & Design', 'January 7, 2018', '1.0.0', '4.0.3 and up']\n",
      "\n",
      "\n",
      "['Coloring book moana', 'ART_AND_DESIGN', '3.9', '967', '14M', '500,000+', 'Free', '0', 'Everyone', 'Art & Design;Pretend Play', 'January 15, 2018', '2.0.0', '4.0.3 and up']\n",
      "\n",
      "\n",
      "Number of rows: 10841\n",
      "Number of columns: 13\n",
      "iOS Column Names ['id', 'track_name', 'size_bytes', 'currency', 'price', 'rating_count_tot', 'rating_count_ver', 'user_rating', 'user_rating_ver', 'ver', 'cont_rating', 'prime_genre', 'sup_devices.num', 'ipadSc_urls.num', 'lang.num', 'vpp_lic']\n",
      "\n",
      "\n",
      "Android Column Names ['App', 'Category', 'Rating', 'Reviews', 'Size', 'Installs', 'Type', 'Price', 'Content Rating', 'Genres', 'Last Updated', 'Current Ver', 'Android Ver']\n"
     ]
    }
   ],
   "source": [
    "def explore_data(dataset, start, end, rows_and_columns=False):\n",
    "    dataset_slice = dataset[start:end]    \n",
    "    for row in dataset_slice:\n",
    "        print(row)\n",
    "        print('\\n') # adds a new (empty) line after each row\n",
    "\n",
    "    if rows_and_columns:\n",
    "        print('Number of rows:', len(dataset))\n",
    "        print('Number of columns:', len(dataset[0]))\n",
    "explore_data(ios, 0, 2, rows_and_columns=True)\n",
    "explore_data(android, 0, 2, rows_and_columns=True)\n",
    "print('iOS Column Names', ios_header)\n",
    "print('\\n')\n",
    "print('Android Column Names', android_header)"
   ]
  },
  {
   "cell_type": "markdown",
   "metadata": {},
   "source": [
    "The Google Play dataset has a dedicated [discussion section](https://www.kaggle.com/lava18/google-play-store-apps/discussion), and we can see that one of the [discussions](https://www.kaggle.com/lava18/google-play-store-apps/discussion/66015) describes an error for row 10472. We will now work to correct that."
   ]
  },
  {
   "cell_type": "code",
   "execution_count": 3,
   "metadata": {},
   "outputs": [
    {
     "name": "stdout",
     "output_type": "stream",
     "text": [
      "['Life Made WI-Fi Touchscreen Photo Frame', '1.9', '19', '3.0M', '1,000+', 'Free', '0', 'Everyone', '', 'February 11, 2018', '1.0.19', '4.0 and up']\n"
     ]
    }
   ],
   "source": [
    "print(android[10472])"
   ]
  },
  {
   "cell_type": "markdown",
   "metadata": {},
   "source": [
    "The app is missing the Category column data and a shift happens for the next few rows. We'll just go ahead and delete this entry."
   ]
  },
  {
   "cell_type": "code",
   "execution_count": 4,
   "metadata": {},
   "outputs": [],
   "source": [
    "del android[10472]"
   ]
  },
  {
   "cell_type": "markdown",
   "metadata": {},
   "source": [
    "In both datasets there are duplicate entries for many apps, for example:"
   ]
  },
  {
   "cell_type": "code",
   "execution_count": 5,
   "metadata": {},
   "outputs": [
    {
     "name": "stdout",
     "output_type": "stream",
     "text": [
      "['Snapchat', 'SOCIAL', '4.0', '17014787', 'Varies with device', '500,000,000+', 'Free', '0', 'Teen', 'Social', 'July 30, 2018', 'Varies with device', 'Varies with device']\n",
      "['Snapchat', 'SOCIAL', '4.0', '17014705', 'Varies with device', '500,000,000+', 'Free', '0', 'Teen', 'Social', 'July 30, 2018', 'Varies with device', 'Varies with device']\n",
      "['Snapchat', 'SOCIAL', '4.0', '17015352', 'Varies with device', '500,000,000+', 'Free', '0', 'Teen', 'Social', 'July 30, 2018', 'Varies with device', 'Varies with device']\n",
      "['Snapchat', 'SOCIAL', '4.0', '17000166', 'Varies with device', '500,000,000+', 'Free', '0', 'Teen', 'Social', 'July 30, 2018', 'Varies with device', 'Varies with device']\n"
     ]
    }
   ],
   "source": [
    "for app in android:\n",
    "    name=app[0]\n",
    "    if name == 'Snapchat':\n",
    "        print(app)"
   ]
  },
  {
   "cell_type": "markdown",
   "metadata": {},
   "source": [
    "Let's see just how many duplicate apps there are."
   ]
  },
  {
   "cell_type": "code",
   "execution_count": 6,
   "metadata": {},
   "outputs": [
    {
     "name": "stdout",
     "output_type": "stream",
     "text": [
      "1181\n"
     ]
    }
   ],
   "source": [
    "unique=[]\n",
    "duplicate=[]\n",
    "for app in android:\n",
    "    name=app[0]\n",
    "    if name in unique:\n",
    "        duplicate.append(name)\n",
    "    else:\n",
    "        unique.append(name)\n",
    "print(len(duplicate))\n",
    "    "
   ]
  },
  {
   "cell_type": "markdown",
   "metadata": {},
   "source": [
    "We see that we have 1181 duplicate apps, this poses a problem and could cause error in our analysis, we need to delete the duplicates but we don't want to delete them at random. One solution is to use the number of reviews column which corresponds to the fourth position of each row. This is the main difference between them and should give us the most up-to-date information about each app. For example:"
   ]
  },
  {
   "cell_type": "code",
   "execution_count": 7,
   "metadata": {},
   "outputs": [
    {
     "name": "stdout",
     "output_type": "stream",
     "text": [
      "Snapchat 17014787\n",
      "Snapchat 17014705\n",
      "Snapchat 17015352\n",
      "Snapchat 17000166\n"
     ]
    }
   ],
   "source": [
    "for app in android:\n",
    "    name=app[0]\n",
    "    if name == 'Snapchat':\n",
    "        print(app[0], app[3])"
   ]
  },
  {
   "cell_type": "code",
   "execution_count": 8,
   "metadata": {},
   "outputs": [
    {
     "name": "stdout",
     "output_type": "stream",
     "text": [
      "reviews_max Expected Length 9659\n",
      "9659\n"
     ]
    }
   ],
   "source": [
    "print('reviews_max Expected Length', len(android)-1181)\n",
    "reviews_max={}\n",
    "for app in android:\n",
    "    name=app[0]\n",
    "    n_reviews=float(app[3])\n",
    "    if name in reviews_max and reviews_max[name]<n_reviews:\n",
    "        reviews_max[name]=n_reviews\n",
    "    if name not in reviews_max:\n",
    "        reviews_max[name]=n_reviews\n",
    "print(len(reviews_max))"
   ]
  },
  {
   "cell_type": "code",
   "execution_count": 9,
   "metadata": {},
   "outputs": [
    {
     "name": "stdout",
     "output_type": "stream",
     "text": [
      "['Photo Editor & Candy Camera & Grid & ScrapBook', 'ART_AND_DESIGN', '4.1', '159', '19M', '10,000+', 'Free', '0', 'Everyone', 'Art & Design', 'January 7, 2018', '1.0.0', '4.0.3 and up']\n",
      "\n",
      "\n",
      "['U Launcher Lite – FREE Live Cool Themes, Hide Apps', 'ART_AND_DESIGN', '4.7', '87510', '8.7M', '5,000,000+', 'Free', '0', 'Everyone', 'Art & Design', 'August 1, 2018', '1.2.4', '4.0.3 and up']\n",
      "\n",
      "\n",
      "Number of rows: 9659\n",
      "Number of columns: 13\n"
     ]
    }
   ],
   "source": [
    "android_clean=[]\n",
    "already_added=[]\n",
    "for app in android:\n",
    "    name=app[0]\n",
    "    n_reviews=float(app[3])\n",
    "    if n_reviews == reviews_max[name] and name not in already_added:\n",
    "        android_clean.append(app)\n",
    "        already_added.append(name)\n",
    "explore_data(android_clean, 0, 2, rows_and_columns=True)"
   ]
  },
  {
   "cell_type": "markdown",
   "metadata": {},
   "source": [
    "We first created a dictionary where each key is a unique app name that corresponds to the highest number of reviews for that app. We then used that dictionary to remove duplicate rows.\n",
    "* We start by initializing two different lists\n",
    "* For every entry in our dataset\n",
    "    * We isolate the name and number of reviews\n",
    "    * We then append the name into our clean list if:\n",
    "        * The number of reviews matches the value in our reviews_max dictionary AND \n",
    "        * If it is not in our already_added list. We need to add this supplementary condition to account for those cases where the highest number of reviews of a duplicate app is the same for more than one entry (for example, the Box app has three entries, and the number of reviews is the same). If we just check for reviews_max[name] == n_reviews, we'll still end up with duplicate entries for some apps.\n",
    "\n",
    "We then explored the new data set, and confirmed that the number of rows is indeed 9,659."
   ]
  },
  {
   "cell_type": "markdown",
   "metadata": {},
   "source": [
    "We don't need to remove duplicates in the iOS dataset because there are non.  See for yourself."
   ]
  },
  {
   "cell_type": "code",
   "execution_count": 10,
   "metadata": {},
   "outputs": [
    {
     "name": "stdout",
     "output_type": "stream",
     "text": [
      "0\n"
     ]
    }
   ],
   "source": [
    "unique=[]\n",
    "duplicate=[]\n",
    "for app in ios:\n",
    "    name=app[0]\n",
    "    if name in unique:\n",
    "        duplicate.append(name)\n",
    "    else:\n",
    "        unique.append(name)\n",
    "print(len(duplicate))\n",
    "    "
   ]
  },
  {
   "cell_type": "markdown",
   "metadata": {},
   "source": [
    "Since we are catering to an English speaking market we want to remove apps with non-english titles from our dataset, such as:"
   ]
  },
  {
   "cell_type": "code",
   "execution_count": 11,
   "metadata": {},
   "outputs": [
    {
     "name": "stdout",
     "output_type": "stream",
     "text": [
      "爱奇艺PPS -《欢乐颂2》电视剧热播\n",
      "\n",
      "\n",
      "لعبة تقدر تربح DZ\n"
     ]
    }
   ],
   "source": [
    "print(ios[813][1])\n",
    "print('\\n')\n",
    "print(android_clean[7940][0])"
   ]
  },
  {
   "cell_type": "markdown",
   "metadata": {},
   "source": [
    "We need to remove these apps while keeping ones in English, we can do this by removing any app name that has a character with an ASCII value over 127, the onl problem is there are some apps with English names that have one or two characters that fall outside that range such as:\n",
    "'Instachat 😜'"
   ]
  },
  {
   "cell_type": "code",
   "execution_count": 12,
   "metadata": {},
   "outputs": [
    {
     "name": "stdout",
     "output_type": "stream",
     "text": [
      "128540\n"
     ]
    }
   ],
   "source": [
    "print(ord('😜'))"
   ]
  },
  {
   "cell_type": "markdown",
   "metadata": {},
   "source": [
    "One way to get the information we need is to separate out any apps with more than three non_English characters. We can do that with this function."
   ]
  },
  {
   "cell_type": "code",
   "execution_count": 13,
   "metadata": {
    "scrolled": true
   },
   "outputs": [],
   "source": [
    "def Eng(string):\n",
    "    character_count=[]\n",
    "    for character in string:\n",
    "        if ord(character)>127:\n",
    "           character_count.append(character)\n",
    "        if len(character_count)>3:\n",
    "            return False\n",
    "    return True"
   ]
  },
  {
   "cell_type": "code",
   "execution_count": 14,
   "metadata": {},
   "outputs": [
    {
     "name": "stdout",
     "output_type": "stream",
     "text": [
      "True\n",
      "False\n",
      "True\n"
     ]
    }
   ],
   "source": [
    "print(Eng('Docs To Go™ Free Office Suite'))\n",
    "print(Eng('爱奇艺PPS -《欢乐颂2》电视剧热播'))\n",
    "print(Eng('Instachat 😜'))"
   ]
  },
  {
   "cell_type": "markdown",
   "metadata": {},
   "source": [
    "We can now loop through our ios and android_clean datasets and separate out any non_English titles. Some will invariably slip through the cracks but not enough to hinder our analysis."
   ]
  },
  {
   "cell_type": "code",
   "execution_count": 15,
   "metadata": {},
   "outputs": [
    {
     "name": "stdout",
     "output_type": "stream",
     "text": [
      "['284882215', 'Facebook', '389879808', 'USD', '0.0', '2974676', '212', '3.5', '3.5', '95.0', '4+', 'Social Networking', '37', '1', '29', '1']\n",
      "\n",
      "\n",
      "['389801252', 'Instagram', '113954816', 'USD', '0.0', '2161558', '1289', '4.5', '4.0', '10.23', '12+', 'Photo & Video', '37', '0', '29', '1']\n",
      "\n",
      "\n",
      "Number of rows: 6183\n",
      "Number of columns: 16\n",
      "['Photo Editor & Candy Camera & Grid & ScrapBook', 'ART_AND_DESIGN', '4.1', '159', '19M', '10,000+', 'Free', '0', 'Everyone', 'Art & Design', 'January 7, 2018', '1.0.0', '4.0.3 and up']\n",
      "\n",
      "\n",
      "['U Launcher Lite – FREE Live Cool Themes, Hide Apps', 'ART_AND_DESIGN', '4.7', '87510', '8.7M', '5,000,000+', 'Free', '0', 'Everyone', 'Art & Design', 'August 1, 2018', '1.2.4', '4.0.3 and up']\n",
      "\n",
      "\n",
      "Number of rows: 9614\n",
      "Number of columns: 13\n"
     ]
    }
   ],
   "source": [
    "ios_english=[]\n",
    "for app in ios:\n",
    "    name=app[1]\n",
    "    if Eng(name) == True:\n",
    "        ios_english.append(app)\n",
    "android_english=[]\n",
    "for app in android_clean:\n",
    "    name=app[0]\n",
    "    if Eng(name) == True:\n",
    "        android_english.append(app)\n",
    "explore_data(ios_english, 0, 2, rows_and_columns=True)\n",
    "explore_data(android_english, 0, 2, rows_and_columns=True)"
   ]
  },
  {
   "cell_type": "markdown",
   "metadata": {},
   "source": [
    "We now need to isolate only the apps that are free to download and install."
   ]
  },
  {
   "cell_type": "code",
   "execution_count": 16,
   "metadata": {},
   "outputs": [
    {
     "name": "stdout",
     "output_type": "stream",
     "text": [
      "3222\n",
      "8864\n"
     ]
    }
   ],
   "source": [
    "ios_free=[]\n",
    "for app in ios_english:\n",
    "    price=app[4]\n",
    "    if price == '0.0':\n",
    "        ios_free.append(app)\n",
    "android_free=[]\n",
    "for app in android_english:\n",
    "    price=app[7]\n",
    "    if price == '0':\n",
    "        android_free.append(app)\n",
    "print(len(ios_free))\n",
    "print(len(android_free))"
   ]
  },
  {
   "cell_type": "markdown",
   "metadata": {},
   "source": [
    "Our goal is to determine the kinds of apps that are likely to attract more users because the number of people using our apps affect our revenue.\n",
    "\n",
    "To minimize risks and overhead, our validation strategy for an app idea has three steps:\n",
    "\n",
    "1. Build a minimal Android version of the app, and add it to Google Play.\n",
    "2. If the app has a good response from users, we develop it further.\n",
    "3. If the app is profitable after six months, we build an iOS version of the app and add it to the App Store.\n",
    "\n",
    "Let's inspect both datasets and look for columns to determine the most common genres in each market. We'll use this to build frequency tables for each."
   ]
  },
  {
   "cell_type": "code",
   "execution_count": 17,
   "metadata": {},
   "outputs": [
    {
     "name": "stdout",
     "output_type": "stream",
     "text": [
      "['App', 'Category', 'Rating', 'Reviews', 'Size', 'Installs', 'Type', 'Price', 'Content Rating', 'Genres', 'Last Updated', 'Current Ver', 'Android Ver']\n",
      "\n",
      "\n",
      "['id', 'track_name', 'size_bytes', 'currency', 'price', 'rating_count_tot', 'rating_count_ver', 'user_rating', 'user_rating_ver', 'ver', 'cont_rating', 'prime_genre', 'sup_devices.num', 'ipadSc_urls.num', 'lang.num', 'vpp_lic']\n"
     ]
    }
   ],
   "source": [
    "print(android_header)\n",
    "print('\\n')\n",
    "print(ios_header)"
   ]
  },
  {
   "cell_type": "markdown",
   "metadata": {},
   "source": [
    "It seems as though the Category and Genres column of the Google Play store located at second and tenth positions respectively. For the AppleStore the prime_genre column will work quite nicely, this is located in position twelfth.\n",
    "\n",
    "Let's create a frequency table of each."
   ]
  },
  {
   "cell_type": "code",
   "execution_count": 18,
   "metadata": {},
   "outputs": [],
   "source": [
    "def freq_table(dataset, index):\n",
    "    table={}\n",
    "    for row in dataset:\n",
    "        variable=row[index]\n",
    "        if variable in table:\n",
    "            table[variable]+=1\n",
    "        else:\n",
    "            table[variable]=1\n",
    "    for variable in table:\n",
    "        table[variable]=(table[variable]/len(table))*100\n",
    "    return table\n",
    "def display_table(dataset, index):\n",
    "    table = freq_table(dataset, index)\n",
    "    table_display = []\n",
    "    for key in table:\n",
    "        key_val_as_tuple = (table[key], key)\n",
    "        table_display.append(key_val_as_tuple)\n",
    "\n",
    "    table_sorted = sorted(table_display, reverse = True)\n",
    "    for entry in table_sorted:\n",
    "        print(entry[1], ':', entry[0])\n",
    "    "
   ]
  },
  {
   "cell_type": "code",
   "execution_count": 19,
   "metadata": {},
   "outputs": [
    {
     "name": "stdout",
     "output_type": "stream",
     "text": [
      "Games : 8147.826086956522\n",
      "Entertainment : 1104.3478260869565\n",
      "Photo & Video : 695.6521739130435\n",
      "Education : 513.0434782608695\n",
      "Social Networking : 460.8695652173913\n",
      "Shopping : 365.2173913043478\n",
      "Utilities : 352.17391304347825\n",
      "Sports : 300.0\n",
      "Music : 286.95652173913044\n",
      "Health & Fitness : 282.60869565217394\n",
      "Productivity : 243.47826086956525\n",
      "Lifestyle : 221.73913043478262\n",
      "News : 186.95652173913044\n",
      "Travel : 173.91304347826087\n",
      "Finance : 156.52173913043478\n",
      "Weather : 121.73913043478262\n",
      "Food & Drink : 113.04347826086956\n",
      "Reference : 78.26086956521739\n",
      "Business : 73.91304347826086\n",
      "Book : 60.86956521739131\n",
      "Navigation : 26.08695652173913\n",
      "Medical : 26.08695652173913\n",
      "Catalogs : 17.391304347826086\n",
      "\n",
      "\n",
      "Tools : 657.0175438596491\n",
      "Entertainment : 471.9298245614035\n",
      "Education : 415.7894736842105\n",
      "Business : 357.01754385964915\n",
      "Productivity : 302.6315789473684\n",
      "Lifestyle : 302.6315789473684\n",
      "Finance : 287.719298245614\n",
      "Medical : 274.56140350877195\n",
      "Sports : 269.2982456140351\n",
      "Personalization : 257.89473684210526\n",
      "Communication : 251.75438596491227\n",
      "Action : 241.2280701754386\n",
      "Health & Fitness : 239.47368421052633\n",
      "Photography : 228.9473684210526\n",
      "News & Magazines : 217.54385964912282\n",
      "Social : 207.01754385964915\n",
      "Travel & Local : 180.70175438596493\n",
      "Shopping : 174.56140350877195\n",
      "Books & Reference : 166.66666666666669\n",
      "Simulation : 158.7719298245614\n",
      "Dating : 144.73684210526315\n",
      "Arcade : 143.859649122807\n",
      "Video Players & Editors : 137.71929824561403\n",
      "Casual : 136.8421052631579\n",
      "Maps & Navigation : 108.77192982456141\n",
      "Food & Drink : 96.49122807017544\n",
      "Puzzle : 87.71929824561403\n",
      "Racing : 77.19298245614034\n",
      "Role Playing : 72.80701754385966\n",
      "Libraries & Demo : 72.80701754385966\n",
      "Auto & Vehicles : 71.9298245614035\n",
      "Strategy : 71.05263157894737\n",
      "House & Home : 64.03508771929825\n",
      "Weather : 62.28070175438597\n",
      "Events : 55.26315789473685\n",
      "Adventure : 52.63157894736842\n",
      "Comics : 47.368421052631575\n",
      "Beauty : 46.49122807017544\n",
      "Art & Design : 46.49122807017544\n",
      "Parenting : 38.59649122807017\n",
      "Card : 35.08771929824561\n",
      "Casino : 33.33333333333333\n",
      "Trivia : 32.45614035087719\n",
      "Educational;Education : 30.701754385964914\n",
      "Board : 29.82456140350877\n",
      "Educational : 28.947368421052634\n",
      "Education;Education : 26.31578947368421\n",
      "Word : 20.175438596491226\n",
      "Casual;Pretend Play : 18.421052631578945\n",
      "Music : 15.789473684210526\n",
      "Racing;Action & Adventure : 13.157894736842104\n",
      "Puzzle;Brain Games : 13.157894736842104\n",
      "Entertainment;Music & Video : 13.157894736842104\n",
      "Casual;Brain Games : 10.526315789473683\n",
      "Casual;Action & Adventure : 10.526315789473683\n",
      "Arcade;Action & Adventure : 9.649122807017543\n",
      "Action;Action & Adventure : 7.894736842105263\n",
      "Educational;Pretend Play : 7.017543859649122\n",
      "Simulation;Action & Adventure : 6.140350877192982\n",
      "Parenting;Education : 6.140350877192982\n",
      "Entertainment;Brain Games : 6.140350877192982\n",
      "Board;Brain Games : 6.140350877192982\n",
      "Parenting;Music & Video : 5.263157894736842\n",
      "Educational;Brain Games : 5.263157894736842\n",
      "Casual;Creativity : 5.263157894736842\n",
      "Art & Design;Creativity : 5.263157894736842\n",
      "Education;Pretend Play : 4.385964912280701\n",
      "Role Playing;Pretend Play : 3.508771929824561\n",
      "Education;Creativity : 3.508771929824561\n",
      "Role Playing;Action & Adventure : 2.631578947368421\n",
      "Puzzle;Action & Adventure : 2.631578947368421\n",
      "Entertainment;Creativity : 2.631578947368421\n",
      "Entertainment;Action & Adventure : 2.631578947368421\n",
      "Educational;Creativity : 2.631578947368421\n",
      "Educational;Action & Adventure : 2.631578947368421\n",
      "Education;Music & Video : 2.631578947368421\n",
      "Education;Brain Games : 2.631578947368421\n",
      "Education;Action & Adventure : 2.631578947368421\n",
      "Adventure;Action & Adventure : 2.631578947368421\n",
      "Video Players & Editors;Music & Video : 1.7543859649122806\n",
      "Sports;Action & Adventure : 1.7543859649122806\n",
      "Simulation;Pretend Play : 1.7543859649122806\n",
      "Puzzle;Creativity : 1.7543859649122806\n",
      "Music;Music & Video : 1.7543859649122806\n",
      "Entertainment;Pretend Play : 1.7543859649122806\n",
      "Casual;Education : 1.7543859649122806\n",
      "Board;Action & Adventure : 1.7543859649122806\n",
      "Video Players & Editors;Creativity : 0.8771929824561403\n",
      "Trivia;Education : 0.8771929824561403\n",
      "Travel & Local;Action & Adventure : 0.8771929824561403\n",
      "Tools;Education : 0.8771929824561403\n",
      "Strategy;Education : 0.8771929824561403\n",
      "Strategy;Creativity : 0.8771929824561403\n",
      "Strategy;Action & Adventure : 0.8771929824561403\n",
      "Simulation;Education : 0.8771929824561403\n",
      "Role Playing;Brain Games : 0.8771929824561403\n",
      "Racing;Pretend Play : 0.8771929824561403\n",
      "Puzzle;Education : 0.8771929824561403\n",
      "Parenting;Brain Games : 0.8771929824561403\n",
      "Music & Audio;Music & Video : 0.8771929824561403\n",
      "Lifestyle;Pretend Play : 0.8771929824561403\n",
      "Lifestyle;Education : 0.8771929824561403\n",
      "Health & Fitness;Education : 0.8771929824561403\n",
      "Health & Fitness;Action & Adventure : 0.8771929824561403\n",
      "Entertainment;Education : 0.8771929824561403\n",
      "Communication;Creativity : 0.8771929824561403\n",
      "Comics;Creativity : 0.8771929824561403\n",
      "Casual;Music & Video : 0.8771929824561403\n",
      "Card;Action & Adventure : 0.8771929824561403\n",
      "Books & Reference;Education : 0.8771929824561403\n",
      "Art & Design;Pretend Play : 0.8771929824561403\n",
      "Art & Design;Action & Adventure : 0.8771929824561403\n",
      "Arcade;Pretend Play : 0.8771929824561403\n",
      "Adventure;Education : 0.8771929824561403\n",
      "\n",
      "\n",
      "FAMILY : 5078.787878787879\n",
      "GAME : 2612.121212121212\n",
      "TOOLS : 2272.7272727272725\n",
      "BUSINESS : 1233.3333333333335\n",
      "LIFESTYLE : 1048.4848484848485\n",
      "PRODUCTIVITY : 1045.4545454545455\n",
      "FINANCE : 993.939393939394\n",
      "MEDICAL : 948.4848484848485\n",
      "SPORTS : 912.1212121212121\n",
      "PERSONALIZATION : 890.9090909090909\n",
      "COMMUNICATION : 869.6969696969697\n",
      "HEALTH_AND_FITNESS : 827.2727272727274\n",
      "PHOTOGRAPHY : 790.9090909090909\n",
      "NEWS_AND_MAGAZINES : 751.5151515151515\n",
      "SOCIAL : 715.1515151515151\n",
      "TRAVEL_AND_LOCAL : 627.2727272727273\n",
      "SHOPPING : 603.030303030303\n",
      "BOOKS_AND_REFERENCE : 575.7575757575758\n",
      "DATING : 500.0\n",
      "VIDEO_PLAYERS : 481.8181818181818\n",
      "MAPS_AND_NAVIGATION : 375.75757575757575\n",
      "FOOD_AND_DRINK : 333.33333333333337\n",
      "EDUCATION : 312.1212121212121\n",
      "ENTERTAINMENT : 257.57575757575756\n",
      "LIBRARIES_AND_DEMO : 251.5151515151515\n",
      "AUTO_AND_VEHICLES : 248.4848484848485\n",
      "HOUSE_AND_HOME : 221.2121212121212\n",
      "WEATHER : 215.15151515151513\n",
      "EVENTS : 190.9090909090909\n",
      "PARENTING : 175.75757575757575\n",
      "ART_AND_DESIGN : 172.72727272727272\n",
      "COMICS : 166.66666666666669\n",
      "BEAUTY : 160.6060606060606\n"
     ]
    }
   ],
   "source": [
    "display_table(ios_free, -5)\n",
    "print('\\n')\n",
    "display_table(android_free, -4)\n",
    "print('\\n')\n",
    "display_table(android_free, 1)"
   ]
  },
  {
   "cell_type": "markdown",
   "metadata": {},
   "source": [
    "The frequency tables we analyzed show that apps designed for fun dominate the Apple Store while the Google Play store has more of a balance. Now we'd like to determine which genres have the most users. To do this we will calculate the average number of installs for the Google Play store, because the Apple Store does not have this information we will use the rating_count_tot column instead."
   ]
  },
  {
   "cell_type": "code",
   "execution_count": 20,
   "metadata": {},
   "outputs": [
    {
     "name": "stdout",
     "output_type": "stream",
     "text": [
      "Social Networking\n",
      "71548.34905660378\n",
      "Photo & Video\n",
      "28441.54375\n",
      "Games\n",
      "22788.6696905016\n",
      "Music\n",
      "57326.530303030304\n",
      "Reference\n",
      "74942.11111111111\n",
      "Health & Fitness\n",
      "23298.015384615384\n",
      "Weather\n",
      "52279.892857142855\n",
      "Utilities\n",
      "18684.456790123455\n",
      "Travel\n",
      "28243.8\n",
      "Shopping\n",
      "26919.690476190477\n",
      "News\n",
      "21248.023255813954\n",
      "Navigation\n",
      "86090.33333333333\n",
      "Lifestyle\n",
      "16485.764705882353\n",
      "Entertainment\n",
      "14029.830708661417\n",
      "Food & Drink\n",
      "33333.92307692308\n",
      "Sports\n",
      "23008.898550724636\n",
      "Book\n",
      "39758.5\n",
      "Finance\n",
      "31467.944444444445\n",
      "Education\n",
      "7003.983050847458\n",
      "Productivity\n",
      "21028.410714285714\n",
      "Business\n",
      "7491.117647058823\n",
      "Catalogs\n",
      "4004.0\n",
      "Medical\n",
      "612.0\n"
     ]
    }
   ],
   "source": [
    "table=freq_table(ios_free, -5)\n",
    "for genre in table:\n",
    "    total=0\n",
    "    len_genre=0\n",
    "    for row in ios_free:\n",
    "        genre_app=row[-5]\n",
    "        if genre_app == genre:\n",
    "            tot=float(row[5])\n",
    "            total+=tot\n",
    "            len_genre+=1\n",
    "    average=total/len_genre\n",
    "    print(genre)\n",
    "    print(average)"
   ]
  },
  {
   "cell_type": "markdown",
   "metadata": {},
   "source": [
    "It seems as though Navigation has a higher number of reviews than any other category at 86090 reviews with Social Networking coming in at second with 71548 reviews."
   ]
  },
  {
   "cell_type": "markdown",
   "metadata": {},
   "source": [
    "We can do the same for the Googlle Play store however we will need to modify the genre names because they contain str characters like '+' and ','. To do this we can use the str.replace function."
   ]
  },
  {
   "cell_type": "code",
   "execution_count": 21,
   "metadata": {},
   "outputs": [
    {
     "name": "stdout",
     "output_type": "stream",
     "text": [
      "ART_AND_DESIGN\n",
      "1.7543859649122806\n",
      "AUTO_AND_VEHICLES\n",
      "1.2195121951219512\n",
      "BEAUTY\n",
      "1886.7924528301887\n",
      "BOOKS_AND_REFERENCE\n",
      "5.2631578947368425\n",
      "BUSINESS\n",
      "0.02457002457002457\n",
      "COMICS\n",
      "181.8181818181818\n",
      "COMMUNICATION\n",
      "174.21602787456445\n",
      "DATING\n",
      "606.060606060606\n",
      "EDUCATION\n",
      "9708.73786407767\n",
      "ENTERTAINMENT\n",
      "117647.05882352941\n",
      "EVENTS\n",
      "7.936507936507937\n",
      "FINANCE\n",
      "30.48780487804878\n",
      "FOOD_AND_DRINK\n",
      "0.09090909090909091\n",
      "HEALTH_AND_FITNESS\n",
      "366.3003663003663\n",
      "HOUSE_AND_HOME\n",
      "1.36986301369863\n",
      "LIBRARIES_AND_DEMO\n",
      "120481.92771084337\n",
      "LIFESTYLE\n",
      "28901.73410404624\n",
      "GAME\n",
      "116.0092807424594\n",
      "FAMILY\n",
      "0.059665871121718374\n",
      "MEDICAL\n",
      "3.194888178913738\n",
      "SOCIAL\n",
      "21186.4406779661\n",
      "SHOPPING\n",
      "5025.125628140703\n",
      "PHOTOGRAPHY\n",
      "38314.17624521073\n",
      "SPORTS\n",
      "0.0033222591362126247\n",
      "TRAVEL_AND_LOCAL\n",
      "4.830917874396135\n",
      "TOOLS\n",
      "133.33333333333334\n",
      "PERSONALIZATION\n",
      "1.7006802721088434\n",
      "PRODUCTIVITY\n",
      "0.028985507246376812\n",
      "PARENTING\n",
      "17.24137931034483\n",
      "WEATHER\n",
      "1408.4507042253522\n",
      "VIDEO_PLAYERS\n",
      "0.6289308176100629\n",
      "NEWS_AND_MAGAZINES\n",
      "403.2258064516129\n",
      "MAPS_AND_NAVIGATION\n",
      "40.32258064516129\n"
     ]
    }
   ],
   "source": [
    "table=freq_table(android_free, 1)\n",
    "for category in table:\n",
    "    total=0\n",
    "    len_category=0\n",
    "    for row in android_free:\n",
    "        category_app=row[1]\n",
    "        if category_app == category:\n",
    "            installs=row[5]\n",
    "            installs=installs.replace('+','')\n",
    "            installs=installs.replace(',','')\n",
    "            total=float(installs)\n",
    "            len_category+=1\n",
    "            average=total/len_category\n",
    "    print(category)\n",
    "    print(average)"
   ]
  },
  {
   "cell_type": "code",
   "execution_count": null,
   "metadata": {},
   "outputs": [],
   "source": []
  }
 ],
 "metadata": {
  "kernelspec": {
   "display_name": "Python 3",
   "language": "python",
   "name": "python3"
  },
  "language_info": {
   "codemirror_mode": {
    "name": "ipython",
    "version": 3
   },
   "file_extension": ".py",
   "mimetype": "text/x-python",
   "name": "python",
   "nbconvert_exporter": "python",
   "pygments_lexer": "ipython3",
   "version": "3.8.2"
  }
 },
 "nbformat": 4,
 "nbformat_minor": 2
}
